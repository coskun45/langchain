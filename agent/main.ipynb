{
 "cells": [
  {
   "cell_type": "code",
   "execution_count": 6,
   "metadata": {},
   "outputs": [
    {
     "data": {
      "text/plain": [
       "True"
      ]
     },
     "execution_count": 6,
     "metadata": {},
     "output_type": "execute_result"
    }
   ],
   "source": [
    "from dotenv import load_dotenv\n",
    "from langchain_community.tools.tavily_search import TavilySearchResults\n",
    "from langchain_openai import ChatOpenAI\n",
    "from langchain_core.messages import HumanMessage\n",
    "from langchain.agents import AgentExecutor, create_react_agent\n",
    "from langchain import hub\n",
    "from langchain.memory import ChatMessageHistory\n",
    "load_dotenv()"
   ]
  },
  {
   "cell_type": "code",
   "execution_count": 5,
   "metadata": {},
   "outputs": [],
   "source": [
    "model = ChatOpenAI(model=\"gpt-4\")\n",
    "search = TavilySearchResults(max_results=2)\n",
    "# If we want, we can create other tools.\n",
    "# Once we have all the tools we want, we can put them in a list that we will reference later.\n",
    "tools = [search]\n",
    "# Get the prompt to use - you can modify this!\n",
    "prompt = hub.pull(\"hwchase17/react\")\n",
    "\n"
   ]
  },
  {
   "cell_type": "code",
   "execution_count": 7,
   "metadata": {},
   "outputs": [],
   "source": [
    "memory = ChatMessageHistory(session_id=\"test-session\")"
   ]
  },
  {
   "cell_type": "code",
   "execution_count": 9,
   "metadata": {},
   "outputs": [],
   "source": [
    "agent = create_react_agent(model, tools, prompt)\n",
    "# Create an agent executor by passing in the agent and tools\n",
    "agent_executor = AgentExecutor(agent=agent, tools=tools, verbose=True)"
   ]
  },
  {
   "cell_type": "code",
   "execution_count": 10,
   "metadata": {},
   "outputs": [],
   "source": [
    "from langchain_core.runnables.history import RunnableWithMessageHistory\n",
    "agent_with_chat_history = RunnableWithMessageHistory(\n",
    "    agent_executor,\n",
    "    # This is needed because in most real world scenarios, a session id is needed\n",
    "    # It isn't really used here because we are using a simple in memory ChatMessageHistory\n",
    "    lambda session_id: memory,\n",
    "    input_messages_key=\"input\",\n",
    "    history_messages_key=\"chat_history\",\n",
    ")"
   ]
  },
  {
   "cell_type": "code",
   "execution_count": 11,
   "metadata": {},
   "outputs": [
    {
     "name": "stdout",
     "output_type": "stream",
     "text": [
      "\n",
      "\n",
      "\u001b[1m> Entering new AgentExecutor chain...\u001b[0m\n",
      "\u001b[32;1m\u001b[1;3mI need to use the search tool to find the current weather in Nüremberg.\n",
      "Action: tavily_search_results_json\n",
      "Action Input: \"Current weather in Nüremberg\"\u001b[0m\u001b[36;1m\u001b[1;3m[{'url': 'https://www.weatherapi.com/', 'content': \"{'location': {'name': 'Nuremberg', 'region': 'Bayern', 'country': 'Germany', 'lat': 49.4478, 'lon': 11.0683, 'tz_id': 'Europe/Berlin', 'localtime_epoch': 1735563467, 'localtime': '2024-12-30 13:57'}, 'current': {'last_updated_epoch': 1735562700, 'last_updated': '2024-12-30 13:45', 'temp_c': 2.6, 'temp_f': 36.7, 'is_day': 1, 'condition': {'text': 'Sunny', 'icon': '//cdn.weatherapi.com/weather/64x64/day/113.png', 'code': 1000}, 'wind_mph': 2.2, 'wind_kph': 3.6, 'wind_degree': 214, 'wind_dir': 'SW', 'pressure_mb': 1032.0, 'pressure_in': 30.48, 'precip_mm': 0.0, 'precip_in': 0.0, 'humidity': 66, 'cloud': 0, 'feelslike_c': 2.1, 'feelslike_f': 35.7, 'windchill_c': 2.1, 'windchill_f': 35.7, 'heatindex_c': 2.6, 'heatindex_f': 36.7, 'dewpoint_c': -3.0, 'dewpoint_f': 26.6, 'vis_km': 10.0, 'vis_miles': 6.0, 'uv': 0.7, 'gust_mph': 2.7, 'gust_kph': 4.4}}\"}, {'url': 'https://world-weather.info/forecast/germany/nuremberg/december-2024/', 'content': \"Weather in Nuremberg in December 2024 (Bavaria) - Detailed Weather Forecast for a Month Weather Weather in Nuremberg Weather in Nuremberg in December 2024 1 +36°+28° 2 +37°+28° 3 +43°+39° 4 +37°+36° 5 +37°+32° 6 +45°+37° 7 +39°+41° 8 +43°+39° 9 +39°+37° 10 +37°+36° 11 +36°+36° 12 +34°+34° 13 +34°+30° 14 +36°+30° 15 +37°+36° 16 +45°+39° 17 +46°+46° 18 +43°+37° 19 +45°+37° 20 +43°+43° 21 +39°+41° 22 +41°+41° 23 +43°+37° 24 +39°+39° 25 +41°+37° 26 +37°+36° 27 +36°+36° 28 +39°+28° +41°+34° +41°+32° +43°+34° Extended weather forecast in Nuremberg HourlyWeek10-Day14-Day30-DayYear Weather in large and nearby cities Weather in Berlin+34° Augsburg+32° Munich+32° Nördlingen+30° Ingolstadt+32° Weiden+28° Donauwörth+30° Ellwangen+30° Regensburg+32° Würzburg+30° Lichtenfels+28° Bayreuth+28° Schwabach+32° Erlangen+32° Forchheim+32° Mertenberg+28° Weiherschneidbach+28° world's temperature today day day\"}]\u001b[0m\u001b[32;1m\u001b[1;3mI have found the current weather in Nuremberg.\n",
      "Final Answer: The current weather in Nuremberg is sunny with a temperature of 2.6°C or 36.7°F.\u001b[0m\n",
      "\n",
      "\u001b[1m> Finished chain.\u001b[0m\n"
     ]
    },
    {
     "data": {
      "text/plain": [
       "{'input': 'What is the weather in Nüremberg now?',\n",
       " 'chat_history': [],\n",
       " 'output': 'The current weather in Nuremberg is sunny with a temperature of 2.6°C or 36.7°F.'}"
      ]
     },
     "execution_count": 11,
     "metadata": {},
     "output_type": "execute_result"
    }
   ],
   "source": [
    "\n",
    "\n",
    "agent_with_chat_history.invoke(\n",
    "    {\"input\": \"What is the weather in Nüremberg now?\"},\n",
    "    config={\"configurable\": {\"session_id\": \"<foo>\"}},\n",
    ")"
   ]
  }
 ],
 "metadata": {
  "kernelspec": {
   "display_name": "env",
   "language": "python",
   "name": "python3"
  },
  "language_info": {
   "codemirror_mode": {
    "name": "ipython",
    "version": 3
   },
   "file_extension": ".py",
   "mimetype": "text/x-python",
   "name": "python",
   "nbconvert_exporter": "python",
   "pygments_lexer": "ipython3",
   "version": "3.12.7"
  }
 },
 "nbformat": 4,
 "nbformat_minor": 2
}
